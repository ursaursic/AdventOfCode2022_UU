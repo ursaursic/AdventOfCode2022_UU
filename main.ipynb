{
 "cells": [
  {
   "cell_type": "markdown",
   "metadata": {},
   "source": [
    "## This is a script to get solutions to Advent of code tasks\n",
    "\n",
    "source: https://adventofcode.com/\n",
    "\n"
   ]
  },
  {
   "cell_type": "code",
   "execution_count": 3,
   "metadata": {},
   "outputs": [],
   "source": [
    "from day1 import main as day_1_main\n",
    "from day2 import main as day_2_main"
   ]
  }
 ],
 "metadata": {
  "interpreter": {
   "hash": "d20fa73112b31bfa793bef7260117b723f72605778c5d9eb49cec3ef10351ead"
  },
  "kernelspec": {
   "display_name": "Python 3.10.4 ('fun_coding')",
   "language": "python",
   "name": "python3"
  },
  "language_info": {
   "codemirror_mode": {
    "name": "ipython",
    "version": 3
   },
   "file_extension": ".py",
   "mimetype": "text/x-python",
   "name": "python",
   "nbconvert_exporter": "python",
   "pygments_lexer": "ipython3",
   "version": "3.10.4"
  },
  "orig_nbformat": 4
 },
 "nbformat": 4,
 "nbformat_minor": 2
}
